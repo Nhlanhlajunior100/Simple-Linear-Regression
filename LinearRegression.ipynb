{
 "cells": [
  {
   "cell_type": "markdown",
   "id": "7b7ca3a6",
   "metadata": {},
   "source": [
    "# The Sparks Foundation Task 1\n",
    "### Graduate Rotational Internship Program April 2023\n",
    "## Prediction Using Supervised Machine Learning\n",
    "### Simple Linear Regression\n",
    "This notebook aims to predict the scores obtained by a student based on the number of hours the student spent studying."
   ]
  },
  {
   "cell_type": "markdown",
   "id": "5c2568da",
   "metadata": {},
   "source": [
    "## Author: Nhlanhla Hlengane\n",
    "#### Date: 11/04/2023\n",
    "Firstly we need to take a look at our data to determine the most appropriate model we will use on the data. "
   ]
  },
  {
   "cell_type": "code",
   "execution_count": 1,
   "id": "1ac26496",
   "metadata": {},
   "outputs": [],
   "source": [
    "import pandas as pd\n",
    "import numpy as np\n",
    "import matplotlib.pyplot as plt\n",
    "%matplotlib inline"
   ]
  },
  {
   "cell_type": "code",
   "execution_count": 31,
   "id": "1cd742f4",
   "metadata": {
    "scrolled": true
   },
   "outputs": [
    {
     "data": {
      "text/html": [
       "<div>\n",
       "<style scoped>\n",
       "    .dataframe tbody tr th:only-of-type {\n",
       "        vertical-align: middle;\n",
       "    }\n",
       "\n",
       "    .dataframe tbody tr th {\n",
       "        vertical-align: top;\n",
       "    }\n",
       "\n",
       "    .dataframe thead th {\n",
       "        text-align: right;\n",
       "    }\n",
       "</style>\n",
       "<table border=\"1\" class=\"dataframe\">\n",
       "  <thead>\n",
       "    <tr style=\"text-align: right;\">\n",
       "      <th></th>\n",
       "      <th>Hours</th>\n",
       "      <th>Scores</th>\n",
       "    </tr>\n",
       "  </thead>\n",
       "  <tbody>\n",
       "    <tr>\n",
       "      <th>0</th>\n",
       "      <td>2.5</td>\n",
       "      <td>21</td>\n",
       "    </tr>\n",
       "    <tr>\n",
       "      <th>1</th>\n",
       "      <td>5.1</td>\n",
       "      <td>47</td>\n",
       "    </tr>\n",
       "    <tr>\n",
       "      <th>2</th>\n",
       "      <td>3.2</td>\n",
       "      <td>27</td>\n",
       "    </tr>\n",
       "    <tr>\n",
       "      <th>3</th>\n",
       "      <td>8.5</td>\n",
       "      <td>75</td>\n",
       "    </tr>\n",
       "    <tr>\n",
       "      <th>4</th>\n",
       "      <td>3.5</td>\n",
       "      <td>30</td>\n",
       "    </tr>\n",
       "  </tbody>\n",
       "</table>\n",
       "</div>"
      ],
      "text/plain": [
       "   Hours  Scores\n",
       "0    2.5      21\n",
       "1    5.1      47\n",
       "2    3.2      27\n",
       "3    8.5      75\n",
       "4    3.5      30"
      ]
     },
     "execution_count": 31,
     "metadata": {},
     "output_type": "execute_result"
    }
   ],
   "source": [
    "url = 'https://raw.githubusercontent.com/AdiPersonalWorks/Random/master/student_scores%20-%20student_scores.csv'\n",
    "df = pd.read_csv(url)\n",
    "df.head()"
   ]
  },
  {
   "cell_type": "code",
   "execution_count": 3,
   "id": "64f6b8c9",
   "metadata": {},
   "outputs": [
    {
     "data": {
      "text/plain": [
       "Text(0, 0.5, 'Scores')"
      ]
     },
     "execution_count": 3,
     "metadata": {},
     "output_type": "execute_result"
    },
    {
     "data": {
      "image/png": "[encoded data removed]",
      "text/plain": [
       "<Figure size 640x480 with 1 Axes>"
      ]
     },
     "metadata": {},
     "output_type": "display_data"
    }
   ],
   "source": [
    "plt.scatter(df['Hours'],df['Scores'])\n",
    "plt.title(\"Scatter plot of the Hours a student studies \\nand the marks they get\")\n",
    "plt.xlabel(\"Hours\")\n",
    "plt.ylabel('Scores')"
   ]
  },
  {
   "cell_type": "code",
   "execution_count": 17,
   "id": "22ec4fec",
   "metadata": {},
   "outputs": [
    {
     "name": "stdout",
     "output_type": "stream",
     "text": [
      "           Hours    Scores\n",
      "Hours   1.000000  0.976191\n",
      "Scores  0.976191  1.000000\n"
     ]
    }
   ],
   "source": [
    "print(df.corr())"
   ]
  },
  {
   "cell_type": "markdown",
   "id": "fe527e52",
   "metadata": {},
   "source": [
    "### The model\n",
    "From the plot above we can see that these 2 variables are highly correlated (about 98%) and have a positive linear relationship. To predict future scores we will train a linear regression model (by implementing sciikit-learn's LinearRegression algorithm) with the hours as the independent variable (attribute) and the scores as the dependent variable (target). "
   ]
  },
  {
   "cell_type": "markdown",
   "id": "a181dde6",
   "metadata": {},
   "source": [
    "Before we train our model we need to split our data into a training and a test set. This can be done using scikit-learn's train_test_split function. We will use 80% as our training data and the other 20% as our testing set to evaluate the model's accuracy. Once the model has been trained we will train it using 100% of the data to improve accuracy. "
   ]
  },
  {
   "cell_type": "code",
   "execution_count": 33,
   "id": "0b36b40c",
   "metadata": {},
   "outputs": [
    {
     "data": {
      "text/plain": [
       "array([21, 47, 27, 75, 30, 20, 88, 60, 81, 25, 85, 62, 41, 42, 17, 95, 30,\n",
       "       24, 67, 69, 30, 54, 35, 76, 86], dtype=int64)"
      ]
     },
     "execution_count": 33,
     "metadata": {},
     "output_type": "execute_result"
    }
   ],
   "source": [
    "from sklearn.model_selection import train_test_split\n",
    "\n",
    "X = df['Hours'].values.reshape(-1,1) #Reshape turns X into a 2D array, Scikit-Learn's linear regression model expects a 2D input\n",
    "y = df['Scores'].values\n",
    "X_train, X_test, y_train, y_test = train_test_split(X,y,test_size = 0.2, random_state=0)\n",
    "y"
   ]
  },
  {
   "cell_type": "markdown",
   "id": "5727f95f",
   "metadata": {},
   "source": [
    "### The typical steps to building a machine learning model are: \n",
    "\n",
    "#### 1. Defining the model: In this case we're building a LinearRegression model\n",
    "Before implementing this model, it is good practice to take note of the assumptions made by this model.\n",
    "\n",
    "- This model assumes that our variables (hours and scores) are continuous numeric, not categorical.\n",
    "\n",
    "- The Data is free of missing values and outliers.\n",
    "\n",
    "- There is a linear relationship between predictors (Hours) and predictant (Scores).\n",
    "\n",
    "- All predictors are independent of each other.\n",
    "\n",
    "- Prediction errors are normally distributed."
   ]
  },
  {
   "cell_type": "code",
   "execution_count": 6,
   "id": "775a4c2b",
   "metadata": {},
   "outputs": [],
   "source": [
    "from sklearn.linear_model import LinearRegression\n",
    "LinReg = LinearRegression()"
   ]
  },
  {
   "cell_type": "markdown",
   "id": "698f1b90",
   "metadata": {},
   "source": [
    "#### 2. Fit: Capturing patterns from our training set."
   ]
  },
  {
   "cell_type": "code",
   "execution_count": 7,
   "id": "f54be947",
   "metadata": {},
   "outputs": [
    {
     "name": "stdout",
     "output_type": "stream",
     "text": [
      "Training complete.\n",
      "Intercept:  2.018160041434662\n",
      "Slope:  [9.91065648]\n"
     ]
    },
    {
     "data": {
      "text/plain": [
       "[<matplotlib.lines.Line2D at 0x1ec8cf14430>]"
      ]
     },
     "execution_count": 7,
     "metadata": {},
     "output_type": "execute_result"
    },
    {
     "data": {
      "image/png": "[encoded data removed]",
      "text/plain": [
       "<Figure size 640x480 with 1 Axes>"
      ]
     },
     "metadata": {},
     "output_type": "display_data"
    }
   ],
   "source": [
    "LinReg.fit(X_train,y_train)\n",
    "c = LinReg.intercept_\n",
    "m = LinReg.coef_\n",
    "print(\"Training complete.\")\n",
    "print(\"Intercept: \",c )\n",
    "print(\"Slope: \", m)\n",
    "plt.title(\"Model & Scatter plot of the Hours a student studies \\nand the marks they get\")\n",
    "plt.xlabel(\"Hours\")\n",
    "plt.ylabel('Scores')\n",
    "\n",
    "y_line = m*X+c\n",
    "plt.scatter(X,y)\n",
    "plt.plot(X,y_line)\n"
   ]
  },
  {
   "cell_type": "markdown",
   "id": "46a88e37",
   "metadata": {},
   "source": [
    "#### 3. Predict: Using our model to predict future patterns"
   ]
  },
  {
   "cell_type": "code",
   "execution_count": 20,
   "id": "ba3037d0",
   "metadata": {},
   "outputs": [
    {
     "data": {
      "text/html": [
       "<div>\n",
       "<style scoped>\n",
       "    .dataframe tbody tr th:only-of-type {\n",
       "        vertical-align: middle;\n",
       "    }\n",
       "\n",
       "    .dataframe tbody tr th {\n",
       "        vertical-align: top;\n",
       "    }\n",
       "\n",
       "    .dataframe thead th {\n",
       "        text-align: right;\n",
       "    }\n",
       "</style>\n",
       "<table border=\"1\" class=\"dataframe\">\n",
       "  <thead>\n",
       "    <tr style=\"text-align: right;\">\n",
       "      <th></th>\n",
       "      <th>Actual Data</th>\n",
       "      <th>Predicted Data</th>\n",
       "    </tr>\n",
       "  </thead>\n",
       "  <tbody>\n",
       "    <tr>\n",
       "      <th>0</th>\n",
       "      <td>20</td>\n",
       "      <td>16.884145</td>\n",
       "    </tr>\n",
       "    <tr>\n",
       "      <th>1</th>\n",
       "      <td>27</td>\n",
       "      <td>33.732261</td>\n",
       "    </tr>\n",
       "    <tr>\n",
       "      <th>2</th>\n",
       "      <td>69</td>\n",
       "      <td>75.357018</td>\n",
       "    </tr>\n",
       "    <tr>\n",
       "      <th>3</th>\n",
       "      <td>30</td>\n",
       "      <td>26.794801</td>\n",
       "    </tr>\n",
       "    <tr>\n",
       "      <th>4</th>\n",
       "      <td>62</td>\n",
       "      <td>60.491033</td>\n",
       "    </tr>\n",
       "  </tbody>\n",
       "</table>\n",
       "</div>"
      ],
      "text/plain": [
       "   Actual Data  Predicted Data\n",
       "0           20       16.884145\n",
       "1           27       33.732261\n",
       "2           69       75.357018\n",
       "3           30       26.794801\n",
       "4           62       60.491033"
      ]
     },
     "execution_count": 20,
     "metadata": {},
     "output_type": "execute_result"
    }
   ],
   "source": [
    "y_pred = LinReg.predict(X_test)\n",
    "Pred = pd.DataFrame({\"Actual Data\":y_test, \"Predicted Data\":y_pred})\n",
    "Pred.head()"
   ]
  },
  {
   "cell_type": "markdown",
   "id": "31cf2d0c",
   "metadata": {},
   "source": [
    "#### 4. Evaluate: How accurate is the model?\n",
    "There are a number of ways of determining a model's accuracy, a few of which are the Mean Absolute Error (MAE), the Mean Squared Error (MSE) and the Root Mean Squared Error (RMSE) which is just the square root of the MSE. To evaluate the model's accuracy we will use the MAE and the RMSE, the maximum of these two will give us a good idea of the model's accuracy. We could evaluate these errors analyticaly but scikit-learn already has built-in functions that perform these types of calculations."
   ]
  },
  {
   "cell_type": "code",
   "execution_count": 9,
   "id": "86f5fe2a",
   "metadata": {},
   "outputs": [],
   "source": [
    "from sklearn.metrics import mean_absolute_error, mean_squared_error"
   ]
  },
  {
   "cell_type": "code",
   "execution_count": 29,
   "id": "68adf757",
   "metadata": {},
   "outputs": [
    {
     "name": "stdout",
     "output_type": "stream",
     "text": [
      "The mean absolute error is: 4.183859899002982\n",
      "the root mean squared error is: 4.647447612100373\n"
     ]
    }
   ],
   "source": [
    "mae = mean_absolute_error(y_test,y_pred)\n",
    "rmse = np.sqrt(mean_squared_error(y_test,y_pred))\n",
    "\n",
    "print(\"The mean absolute error is:\",mae)\n",
    "print(\"the root mean squared error is:\",rmse)"
   ]
  },
  {
   "cell_type": "markdown",
   "id": "196d939c",
   "metadata": {},
   "source": [
    "The errors recieved using these methods are relatively low. On average, the model is of by 4.6 from the true score value. This is a good model, now all that's left is to train the model using 100% of the data to improve accuracy."
   ]
  },
  {
   "cell_type": "code",
   "execution_count": 11,
   "id": "cac930ec",
   "metadata": {},
   "outputs": [
    {
     "name": "stdout",
     "output_type": "stream",
     "text": [
      "The final intercept is:  2.48367340537321\n",
      "The final slope is:  [9.77580339]\n",
      "------------------------------------------\n"
     ]
    },
    {
     "data": {
      "text/plain": [
       "Text(0, 0.5, 'Scores')"
      ]
     },
     "execution_count": 11,
     "metadata": {},
     "output_type": "execute_result"
    },
    {
     "data": {
      "image/png": "[encoded data removed]",
      "text/plain": [
       "<Figure size 640x480 with 1 Axes>"
      ]
     },
     "metadata": {},
     "output_type": "display_data"
    }
   ],
   "source": [
    "Final_LinReg = LinearRegression()\n",
    "Final_LinReg.fit(X,y)\n",
    "m_new = Final_LinReg.coef_\n",
    "c_new = Final_LinReg.intercept_\n",
    "y_final = m_new*X+c_new\n",
    "\n",
    "print(\"The final intercept is: \",c_new)\n",
    "print(\"The final slope is: \",m_new)\n",
    "print(\"------------------------------------------\")\n",
    "\n",
    "plt.scatter(X,y)\n",
    "plt.plot(X,y_final)\n",
    "plt.title(\"Model & Scatter plot of the Hours a student studies \\nand the marks they get\")\n",
    "plt.xlabel(\"Hours\")\n",
    "plt.ylabel('Scores')\n",
    "\n",
    "\n",
    "\n"
   ]
  },
  {
   "cell_type": "markdown",
   "id": "ccc167dd",
   "metadata": {},
   "source": [
    "If the average student studies for an extra hour they will increase their score by 9.8 marks."
   ]
  },
  {
   "cell_type": "code",
   "execution_count": 13,
   "id": "7d1c5673",
   "metadata": {},
   "outputs": [
    {
     "name": "stdout",
     "output_type": "stream",
     "text": [
      "Let's compare the r^2 value of both models\n",
      "0.9529481969048356\n"
     ]
    }
   ],
   "source": [
    "print(\"Let's compare the r^2 value of both models\")\n",
    "print(Final_LinReg.score(X,y))"
   ]
  },
  {
   "cell_type": "code",
   "execution_count": 14,
   "id": "bd3861e7",
   "metadata": {},
   "outputs": [
    {
     "name": "stdout",
     "output_type": "stream",
     "text": [
      "0.9526947647057273\n"
     ]
    }
   ],
   "source": [
    "print(LinReg.score(X,y))"
   ]
  },
  {
   "cell_type": "markdown",
   "id": "6340f37a",
   "metadata": {},
   "source": [
    "As expected we see a slight improvement in the accuracy of the Final_LinReg model which was trained using 100% of the data. That wraps up my Linear Regression presentation."
   ]
  },
  {
   "cell_type": "code",
   "execution_count": null,
   "id": "eea1d0d3",
   "metadata": {},
   "outputs": [],
   "source": []
  },
  {
   "cell_type": "code",
   "execution_count": null,
   "id": "91ea5779",
   "metadata": {},
   "outputs": [],
   "source": []
  }
 ],
 "metadata": {
  "kernelspec": {
   "display_name": "Python 3 (ipykernel)",
   "language": "python",
   "name": "python3"
  },
  "language_info": {
   "codemirror_mode": {
    "name": "ipython",
    "version": 3
   },
   "file_extension": ".py",
   "mimetype": "text/x-python",
   "name": "python",
   "nbconvert_exporter": "python",
   "pygments_lexer": "ipython3",
   "version": "3.10.9"
  }
 },
 "nbformat": 4,
 "nbformat_minor": 5
}
